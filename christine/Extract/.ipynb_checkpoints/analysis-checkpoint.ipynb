{
 "cells": [
  {
   "cell_type": "code",
   "execution_count": 1,
   "metadata": {},
   "outputs": [],
   "source": [
    "import pandas as pd\n",
    "from sqlalchemy import create_engine\n",
    "import pymysql\n",
    "pymysql.install_as_MySQLdb()\n",
    "import pymongo "
   ]
  },
  {
   "cell_type": "code",
   "execution_count": 2,
   "metadata": {},
   "outputs": [
    {
     "data": {
      "text/html": [
       "<div>\n",
       "<style scoped>\n",
       "    .dataframe tbody tr th:only-of-type {\n",
       "        vertical-align: middle;\n",
       "    }\n",
       "\n",
       "    .dataframe tbody tr th {\n",
       "        vertical-align: top;\n",
       "    }\n",
       "\n",
       "    .dataframe thead th {\n",
       "        text-align: right;\n",
       "    }\n",
       "</style>\n",
       "<table border=\"1\" class=\"dataframe\">\n",
       "  <thead>\n",
       "    <tr style=\"text-align: right;\">\n",
       "      <th></th>\n",
       "      <th>Date</th>\n",
       "      <th>California</th>\n",
       "      <th>Mexico</th>\n",
       "      <th>Chile</th>\n",
       "      <th>Dominican Republic</th>\n",
       "      <th>New Zealand</th>\n",
       "      <th>Peru</th>\n",
       "      <th>Total Volume in Pounds</th>\n",
       "    </tr>\n",
       "  </thead>\n",
       "  <tbody>\n",
       "    <tr>\n",
       "      <th>0</th>\n",
       "      <td>1/4/2015</td>\n",
       "      <td>164520</td>\n",
       "      <td>29719045</td>\n",
       "      <td>718677</td>\n",
       "      <td>740000</td>\n",
       "      <td>270000</td>\n",
       "      <td>0</td>\n",
       "      <td>31612242</td>\n",
       "    </tr>\n",
       "    <tr>\n",
       "      <th>1</th>\n",
       "      <td>1/11/2015</td>\n",
       "      <td>928302</td>\n",
       "      <td>50455653</td>\n",
       "      <td>811149</td>\n",
       "      <td>870000</td>\n",
       "      <td>0</td>\n",
       "      <td>0</td>\n",
       "      <td>53065104</td>\n",
       "    </tr>\n",
       "    <tr>\n",
       "      <th>2</th>\n",
       "      <td>1/18/2015</td>\n",
       "      <td>2169628</td>\n",
       "      <td>50940292</td>\n",
       "      <td>1025090</td>\n",
       "      <td>1090000</td>\n",
       "      <td>0</td>\n",
       "      <td>0</td>\n",
       "      <td>55225010</td>\n",
       "    </tr>\n",
       "    <tr>\n",
       "      <th>3</th>\n",
       "      <td>1/25/2015</td>\n",
       "      <td>4229894</td>\n",
       "      <td>38183291</td>\n",
       "      <td>481359</td>\n",
       "      <td>2260000</td>\n",
       "      <td>0</td>\n",
       "      <td>0</td>\n",
       "      <td>45154544</td>\n",
       "    </tr>\n",
       "    <tr>\n",
       "      <th>4</th>\n",
       "      <td>2/1/2015</td>\n",
       "      <td>3232783</td>\n",
       "      <td>29998307</td>\n",
       "      <td>853528</td>\n",
       "      <td>1350000</td>\n",
       "      <td>0</td>\n",
       "      <td>0</td>\n",
       "      <td>35434618</td>\n",
       "    </tr>\n",
       "  </tbody>\n",
       "</table>\n",
       "</div>"
      ],
      "text/plain": [
       "        Date  California    Mexico    Chile  Dominican Republic  New Zealand  \\\n",
       "0   1/4/2015      164520  29719045   718677              740000       270000   \n",
       "1  1/11/2015      928302  50455653   811149              870000            0   \n",
       "2  1/18/2015     2169628  50940292  1025090             1090000            0   \n",
       "3  1/25/2015     4229894  38183291   481359             2260000            0   \n",
       "4   2/1/2015     3232783  29998307   853528             1350000            0   \n",
       "\n",
       "   Peru  Total Volume in Pounds  \n",
       "0     0                31612242  \n",
       "1     0                53065104  \n",
       "2     0                55225010  \n",
       "3     0                45154544  \n",
       "4     0                35434618  "
      ]
     },
     "execution_count": 2,
     "metadata": {},
     "output_type": "execute_result"
    }
   ],
   "source": [
    "avo_data= pd.read_csv('avocado_volume.csv')\n",
    "avo_data.head()"
   ]
  },
  {
   "cell_type": "code",
   "execution_count": 4,
   "metadata": {},
   "outputs": [
    {
     "data": {
      "text/html": [
       "<div>\n",
       "<style scoped>\n",
       "    .dataframe tbody tr th:only-of-type {\n",
       "        vertical-align: middle;\n",
       "    }\n",
       "\n",
       "    .dataframe tbody tr th {\n",
       "        vertical-align: top;\n",
       "    }\n",
       "\n",
       "    .dataframe thead th {\n",
       "        text-align: right;\n",
       "    }\n",
       "</style>\n",
       "<table border=\"1\" class=\"dataframe\">\n",
       "  <thead>\n",
       "    <tr style=\"text-align: right;\">\n",
       "      <th></th>\n",
       "      <th>Total Volume in Pounds</th>\n",
       "    </tr>\n",
       "    <tr>\n",
       "      <th>Date</th>\n",
       "      <th></th>\n",
       "    </tr>\n",
       "  </thead>\n",
       "  <tbody>\n",
       "    <tr>\n",
       "      <th>1/4/2015</th>\n",
       "      <td>31612242</td>\n",
       "    </tr>\n",
       "    <tr>\n",
       "      <th>1/11/2015</th>\n",
       "      <td>53065104</td>\n",
       "    </tr>\n",
       "    <tr>\n",
       "      <th>1/18/2015</th>\n",
       "      <td>55225010</td>\n",
       "    </tr>\n",
       "    <tr>\n",
       "      <th>1/25/2015</th>\n",
       "      <td>45154544</td>\n",
       "    </tr>\n",
       "    <tr>\n",
       "      <th>2/1/2015</th>\n",
       "      <td>35434618</td>\n",
       "    </tr>\n",
       "  </tbody>\n",
       "</table>\n",
       "</div>"
      ],
      "text/plain": [
       "           Total Volume in Pounds\n",
       "Date                             \n",
       "1/4/2015                 31612242\n",
       "1/11/2015                53065104\n",
       "1/18/2015                55225010\n",
       "1/25/2015                45154544\n",
       "2/1/2015                 35434618"
      ]
     },
     "execution_count": 4,
     "metadata": {},
     "output_type": "execute_result"
    }
   ],
   "source": [
    "new_avo_data_df = avo_data[['Date', 'Total Volume in Pounds']]\n",
    "new_avo_data_df.set_index(\"Date\", inplace=True)\n",
    "new_avo_data_df = new_avo_data_df[:-1]\n",
    "new_avo_data_df.head()"
   ]
  },
  {
   "cell_type": "code",
   "execution_count": null,
   "metadata": {},
   "outputs": [],
   "source": []
  },
  {
   "cell_type": "code",
   "execution_count": null,
   "metadata": {},
   "outputs": [],
   "source": []
  },
  {
   "cell_type": "code",
   "execution_count": 7,
   "metadata": {},
   "outputs": [],
   "source": [
    "# connection_string = \"root:@localhost/new_avo_imports_df\"\n",
    "engine = create_engine(f'mysql://root:@localhost/avocado_db') "
   ]
  },
  {
   "cell_type": "code",
   "execution_count": 8,
   "metadata": {
    "scrolled": true
   },
   "outputs": [
    {
     "data": {
      "text/plain": [
       "['avocado_data', 'avocado_price']"
      ]
     },
     "execution_count": 8,
     "metadata": {},
     "output_type": "execute_result"
    }
   ],
   "source": [
    "engine.table_names()"
   ]
  },
  {
   "cell_type": "code",
   "execution_count": 9,
   "metadata": {},
   "outputs": [],
   "source": [
    "new_avo_data_df.to_sql(name='avocado_data', con=engine, if_exists='append', index=True)"
   ]
  },
  {
   "cell_type": "code",
   "execution_count": 10,
   "metadata": {},
   "outputs": [],
   "source": []
  },
  {
   "cell_type": "code",
   "execution_count": 11,
   "metadata": {},
   "outputs": [
    {
     "data": {
      "text/html": [
       "<div>\n",
       "<style scoped>\n",
       "    .dataframe tbody tr th:only-of-type {\n",
       "        vertical-align: middle;\n",
       "    }\n",
       "\n",
       "    .dataframe tbody tr th {\n",
       "        vertical-align: top;\n",
       "    }\n",
       "\n",
       "    .dataframe thead th {\n",
       "        text-align: right;\n",
       "    }\n",
       "</style>\n",
       "<table border=\"1\" class=\"dataframe\">\n",
       "  <thead>\n",
       "    <tr style=\"text-align: right;\">\n",
       "      <th></th>\n",
       "      <th>Date</th>\n",
       "      <th>Total Volume in Pounds</th>\n",
       "    </tr>\n",
       "  </thead>\n",
       "  <tbody>\n",
       "    <tr>\n",
       "      <th>0</th>\n",
       "      <td>1/4/2015</td>\n",
       "      <td>31612242</td>\n",
       "    </tr>\n",
       "    <tr>\n",
       "      <th>1</th>\n",
       "      <td>1/11/2015</td>\n",
       "      <td>53065104</td>\n",
       "    </tr>\n",
       "    <tr>\n",
       "      <th>2</th>\n",
       "      <td>1/18/2015</td>\n",
       "      <td>55225010</td>\n",
       "    </tr>\n",
       "    <tr>\n",
       "      <th>3</th>\n",
       "      <td>1/25/2015</td>\n",
       "      <td>45154544</td>\n",
       "    </tr>\n",
       "    <tr>\n",
       "      <th>4</th>\n",
       "      <td>2/1/2015</td>\n",
       "      <td>35434618</td>\n",
       "    </tr>\n",
       "  </tbody>\n",
       "</table>\n",
       "</div>"
      ],
      "text/plain": [
       "        Date  Total Volume in Pounds\n",
       "0   1/4/2015                31612242\n",
       "1  1/11/2015                53065104\n",
       "2  1/18/2015                55225010\n",
       "3  1/25/2015                45154544\n",
       "4   2/1/2015                35434618"
      ]
     },
     "execution_count": 11,
     "metadata": {},
     "output_type": "execute_result"
    }
   ],
   "source": [
    "pd.read_sql_query('select * from avocado_data', con=engine).head()"
   ]
  },
  {
   "cell_type": "code",
   "execution_count": 12,
   "metadata": {},
   "outputs": [
    {
     "data": {
      "text/html": [
       "<div>\n",
       "<style scoped>\n",
       "    .dataframe tbody tr th:only-of-type {\n",
       "        vertical-align: middle;\n",
       "    }\n",
       "\n",
       "    .dataframe tbody tr th {\n",
       "        vertical-align: top;\n",
       "    }\n",
       "\n",
       "    .dataframe thead th {\n",
       "        text-align: right;\n",
       "    }\n",
       "</style>\n",
       "<table border=\"1\" class=\"dataframe\">\n",
       "  <thead>\n",
       "    <tr style=\"text-align: right;\">\n",
       "      <th></th>\n",
       "      <th>Date</th>\n",
       "      <th>AveragePrice</th>\n",
       "      <th>region</th>\n",
       "    </tr>\n",
       "  </thead>\n",
       "  <tbody>\n",
       "    <tr>\n",
       "      <th>0</th>\n",
       "      <td>2015-01-04</td>\n",
       "      <td>1</td>\n",
       "      <td>None</td>\n",
       "    </tr>\n",
       "    <tr>\n",
       "      <th>1</th>\n",
       "      <td>2015-01-11</td>\n",
       "      <td>1</td>\n",
       "      <td>None</td>\n",
       "    </tr>\n",
       "    <tr>\n",
       "      <th>2</th>\n",
       "      <td>2015-01-18</td>\n",
       "      <td>1</td>\n",
       "      <td>None</td>\n",
       "    </tr>\n",
       "    <tr>\n",
       "      <th>3</th>\n",
       "      <td>2015-01-25</td>\n",
       "      <td>1</td>\n",
       "      <td>None</td>\n",
       "    </tr>\n",
       "    <tr>\n",
       "      <th>4</th>\n",
       "      <td>2015-02-01</td>\n",
       "      <td>1</td>\n",
       "      <td>None</td>\n",
       "    </tr>\n",
       "  </tbody>\n",
       "</table>\n",
       "</div>"
      ],
      "text/plain": [
       "         Date  AveragePrice region\n",
       "0  2015-01-04             1   None\n",
       "1  2015-01-11             1   None\n",
       "2  2015-01-18             1   None\n",
       "3  2015-01-25             1   None\n",
       "4  2015-02-01             1   None"
      ]
     },
     "execution_count": 12,
     "metadata": {},
     "output_type": "execute_result"
    }
   ],
   "source": []
  },
  {
   "cell_type": "code",
   "execution_count": null,
   "metadata": {},
   "outputs": [],
   "source": []
  },
  {
   "cell_type": "code",
   "execution_count": null,
   "metadata": {},
   "outputs": [],
   "source": []
  }
 ],
 "metadata": {
  "kernelspec": {
   "display_name": "Python 3",
   "language": "python",
   "name": "python3"
  },
  "language_info": {
   "codemirror_mode": {
    "name": "ipython",
    "version": 3
   },
   "file_extension": ".py",
   "mimetype": "text/x-python",
   "name": "python",
   "nbconvert_exporter": "python",
   "pygments_lexer": "ipython3",
   "version": "3.6.5"
  }
 },
 "nbformat": 4,
 "nbformat_minor": 2
}
